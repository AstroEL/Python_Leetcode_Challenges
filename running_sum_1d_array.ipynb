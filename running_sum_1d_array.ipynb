{
 "cells": [
  {
   "cell_type": "markdown",
   "id": "f0b5e6d0-bfea-4b5e-83e6-5926445863fb",
   "metadata": {},
   "source": [
    "**Running Sum of 1d Array** -- #1480"
   ]
  },
  {
   "cell_type": "code",
   "execution_count": null,
   "id": "2a6e84f3-8cd9-414b-9168-a830828f4f69",
   "metadata": {},
   "outputs": [],
   "source": [
    "class Solution:\n",
    "    def runningSum(self, nums: List[int]) -> List[int]:\n",
    "        output = []\n",
    "        counter = 0\n",
    "        for i in nums:\n",
    "            counter += i\n",
    "            output.append(counter)\n",
    "        return output"
   ]
  }
 ],
 "metadata": {
  "kernelspec": {
   "display_name": "Python 3 (ipykernel)",
   "language": "python",
   "name": "python3"
  },
  "language_info": {
   "codemirror_mode": {
    "name": "ipython",
    "version": 3
   },
   "file_extension": ".py",
   "mimetype": "text/x-python",
   "name": "python",
   "nbconvert_exporter": "python",
   "pygments_lexer": "ipython3",
   "version": "3.9.12"
  }
 },
 "nbformat": 4,
 "nbformat_minor": 5
}
