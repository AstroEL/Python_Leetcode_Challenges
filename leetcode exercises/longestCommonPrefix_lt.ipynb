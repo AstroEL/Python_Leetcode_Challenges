{
 "cells": [
  {
   "cell_type": "code",
   "execution_count": 5,
   "id": "13a32e0f-878c-4a66-8aaa-ec1c1ed04d24",
   "metadata": {},
   "outputs": [],
   "source": [
    "class Solution:\n",
    "    def longestCommonPrefix(self, strs):\n",
    "        res = \"\"\n",
    "\n",
    "        for i in range(len(strs[0])):\n",
    "            for s in strs:\n",
    "                if i == len(s) or s[i] != strs[0][i]:\n",
    "                    return res\n",
    "            res += strs[0][i]\n",
    "\n",
    "        return res"
   ]
  },
  {
   "cell_type": "code",
   "execution_count": 6,
   "id": "c612e5e7-fa21-4fba-87af-032f3327d744",
   "metadata": {},
   "outputs": [],
   "source": [
    "s = Solution()"
   ]
  },
  {
   "cell_type": "code",
   "execution_count": 8,
   "id": "c79d9b66-1ec8-46b9-9f16-373b85ecb2e6",
   "metadata": {},
   "outputs": [
    {
     "data": {
      "text/plain": [
       "'pla'"
      ]
     },
     "execution_count": 8,
     "metadata": {},
     "output_type": "execute_result"
    }
   ],
   "source": [
    "s.longestCommonPrefix([\"play\", \"player\", \"playeraide\", \"plausible\", \"playa\"])"
   ]
  },
  {
   "cell_type": "code",
   "execution_count": null,
   "id": "94aa3539-7560-4433-8faf-135f7930950f",
   "metadata": {},
   "outputs": [],
   "source": []
  }
 ],
 "metadata": {
  "kernelspec": {
   "display_name": "Python 3 (ipykernel)",
   "language": "python",
   "name": "python3"
  },
  "language_info": {
   "codemirror_mode": {
    "name": "ipython",
    "version": 3
   },
   "file_extension": ".py",
   "mimetype": "text/x-python",
   "name": "python",
   "nbconvert_exporter": "python",
   "pygments_lexer": "ipython3",
   "version": "3.9.12"
  }
 },
 "nbformat": 4,
 "nbformat_minor": 5
}
